{
  "nbformat": 4,
  "nbformat_minor": 0,
  "metadata": {
    "colab": {
      "name": "GAN MNIST.ipynb",
      "provenance": [],
      "collapsed_sections": [],
      "authorship_tag": "ABX9TyMVau4c1Y2ad7C2vjWky4PM",
      "include_colab_link": true
    },
    "kernelspec": {
      "name": "python3",
      "display_name": "Python 3"
    },
    "accelerator": "GPU"
  },
  "cells": [
    {
      "cell_type": "markdown",
      "metadata": {
        "id": "view-in-github",
        "colab_type": "text"
      },
      "source": [
        "<a href=\"https://colab.research.google.com/github/JacopoKahl/gan_mnist/blob/main/GAN_MNIST.ipynb\" target=\"_parent\"><img src=\"https://colab.research.google.com/assets/colab-badge.svg\" alt=\"Open In Colab\"/></a>"
      ]
    },
    {
      "cell_type": "markdown",
      "metadata": {
        "id": "TSCterJFqlFf"
      },
      "source": [
        "#Generative Adversial Network\n",
        "\n",
        "Fully-connected networks (generator and discriminator) as thew original implementation (2014)\n",
        "\n",
        "Example on the MNIST dataset"
      ]
    },
    {
      "cell_type": "markdown",
      "metadata": {
        "id": "ps4rJUDcri-c"
      },
      "source": [
        "##Imports"
      ]
    },
    {
      "cell_type": "code",
      "metadata": {
        "id": "nv9A0ug5qdzn"
      },
      "source": [
        "#Keras imports\n",
        "from keras.models import Sequential #Sequential model \n",
        "from keras.layers import Dense, Dropout\n",
        "\n",
        "from keras.layers.advanced_activations import LeakyReLU #advanced LeakyRelu activation layer\n",
        "\n",
        "#Dataset\n",
        "from keras.datasets import mnist\n",
        "\n",
        "import numpy as np #import numpy library\n",
        "\n",
        "#Visualization \n",
        "import matplotlib.pyplot as plt\n",
        "from keras.utils.vis_utils import plot_model"
      ],
      "execution_count": 1,
      "outputs": []
    },
    {
      "cell_type": "markdown",
      "metadata": {
        "id": "IQaLLwtfxN06"
      },
      "source": [
        "##Load data"
      ]
    },
    {
      "cell_type": "code",
      "metadata": {
        "colab": {
          "base_uri": "https://localhost:8080/"
        },
        "id": "2rY8lY4xxMcS",
        "outputId": "90c47532-4e97-4654-ffee-645fc5f6fb1e"
      },
      "source": [
        "(X_train, Y_train), (X_test, Y_test) = mnist.load_data() #load dataset\n",
        "\n",
        "#Normalization of the dataset\n",
        "X_train = (X_train.astype(np.float32) - 127.5) /127.5 #normaliza pixel values in the [-1,1] interval\n",
        "X_test = (X_test.astype(np.float32) - 127.5) /127.5 #normaliza pixel values in the [-1,1] interval"
      ],
      "execution_count": 2,
      "outputs": [
        {
          "output_type": "stream",
          "text": [
            "Downloading data from https://storage.googleapis.com/tensorflow/tf-keras-datasets/mnist.npz\n",
            "11493376/11490434 [==============================] - 0s 0us/step\n"
          ],
          "name": "stdout"
        }
      ]
    },
    {
      "cell_type": "code",
      "metadata": {
        "colab": {
          "base_uri": "https://localhost:8080/"
        },
        "id": "QcxBH6o2yrNy",
        "outputId": "0a19bd09-111f-45fa-a874-68b2072c5d88"
      },
      "source": [
        "print(X_train.shape)"
      ],
      "execution_count": 3,
      "outputs": [
        {
          "output_type": "stream",
          "text": [
            "(60000, 28, 28)\n"
          ],
          "name": "stdout"
        }
      ]
    },
    {
      "cell_type": "markdown",
      "metadata": {
        "id": "zsDW5Rkkzi3h"
      },
      "source": [
        "##Reshape input image into 1D array\n",
        "\n",
        "We need to feed the input to fully connected network"
      ]
    },
    {
      "cell_type": "code",
      "metadata": {
        "colab": {
          "base_uri": "https://localhost:8080/"
        },
        "id": "h_H4h9drzTUg",
        "outputId": "4cc59173-eec3-439a-9839-a0ca96bcd211"
      },
      "source": [
        "#Save original dimension before reshaping\n",
        "\n",
        "num_Samples = X_train.shape[0]\n",
        "rows = X_train.shape[1]\n",
        "cols = X_train.shape[2]\n",
        "\n",
        "X_train = X_train.reshape(num_Samples, rows*cols)\n",
        "print(X_train.shape)"
      ],
      "execution_count": 4,
      "outputs": [
        {
          "output_type": "stream",
          "text": [
            "(60000, 784)\n"
          ],
          "name": "stdout"
        }
      ]
    },
    {
      "cell_type": "markdown",
      "metadata": {
        "id": "TN-MnB9m05Fn"
      },
      "source": [
        "##Models "
      ]
    },
    {
      "cell_type": "markdown",
      "metadata": {
        "id": "cFAb-zRo0_AU"
      },
      "source": [
        "###Network parameters"
      ]
    },
    {
      "cell_type": "code",
      "metadata": {
        "id": "AsGswTbh0zF9"
      },
      "source": [
        "gen_InputDim = 100 #Generator input dimension (like strating from the latent space)\n"
      ],
      "execution_count": 5,
      "outputs": []
    },
    {
      "cell_type": "markdown",
      "metadata": {
        "id": "R-9M3aUs1nBb"
      },
      "source": [
        "##Generator\n",
        "\n",
        "The generator architecture is like a decoder in the autoencoder."
      ]
    },
    {
      "cell_type": "code",
      "metadata": {
        "id": "C2is7dpM1061"
      },
      "source": [
        "generator = Sequential()\n",
        "\n",
        "generator.add(Dense(units=256, input_dim= gen_InputDim))\n",
        "generator.add(LeakyReLU(0.2)) #LeakyRealu with reduced alpha (slope of the negative segment) wrt default parameter\n",
        "\n",
        "generator.add(Dense(units=512))\n",
        "generator.add(LeakyReLU(0.2)) #LeakyRealu with reduced alpha (slope of the negative segment) wrt default parameter\n",
        "\n",
        "generator.add(Dense(units=1024))\n",
        "generator.add(LeakyReLU(0.2)) #LeakyRealu with reduced alpha (slope of the negative segment) wrt default parameter\n",
        "\n",
        "generator.add(Dense(units=X_train.shape[1], activation = 'tanh')) #tanh activation returns values in the [-1,1] interval\n"
      ],
      "execution_count": 7,
      "outputs": []
    },
    {
      "cell_type": "code",
      "metadata": {
        "colab": {
          "base_uri": "https://localhost:8080/"
        },
        "id": "NHg1K2VU3jgA",
        "outputId": "ee441549-6b0e-451e-b136-a512ae052fff"
      },
      "source": [
        "generator.compile(loss='binary_crossentropy', optimizer='adam')\n",
        "generator.summary()\n",
        "#plot_model(generator)"
      ],
      "execution_count": 9,
      "outputs": [
        {
          "output_type": "stream",
          "text": [
            "Model: \"sequential_1\"\n",
            "_________________________________________________________________\n",
            "Layer (type)                 Output Shape              Param #   \n",
            "=================================================================\n",
            "dense_4 (Dense)              (None, 256)               25856     \n",
            "_________________________________________________________________\n",
            "leaky_re_lu_3 (LeakyReLU)    (None, 256)               0         \n",
            "_________________________________________________________________\n",
            "dense_5 (Dense)              (None, 512)               131584    \n",
            "_________________________________________________________________\n",
            "leaky_re_lu_4 (LeakyReLU)    (None, 512)               0         \n",
            "_________________________________________________________________\n",
            "dense_6 (Dense)              (None, 1024)              525312    \n",
            "_________________________________________________________________\n",
            "leaky_re_lu_5 (LeakyReLU)    (None, 1024)              0         \n",
            "_________________________________________________________________\n",
            "dense_7 (Dense)              (None, 784)               803600    \n",
            "=================================================================\n",
            "Total params: 1,486,352\n",
            "Trainable params: 1,486,352\n",
            "Non-trainable params: 0\n",
            "_________________________________________________________________\n"
          ],
          "name": "stdout"
        }
      ]
    },
    {
      "cell_type": "markdown",
      "metadata": {
        "id": "2LMN7hVQ4UYJ"
      },
      "source": [
        "##Discriminator \n",
        "\n",
        "The discriminator is an image classifier. The output is binary: 1(true) for original image nd 0 for fakes (generated by the generator)."
      ]
    },
    {
      "cell_type": "code",
      "metadata": {
        "id": "uX4GMz9H4kpq"
      },
      "source": [
        ""
      ],
      "execution_count": null,
      "outputs": []
    }
  ]
}