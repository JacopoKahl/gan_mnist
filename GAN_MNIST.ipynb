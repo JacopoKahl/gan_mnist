{
  "nbformat": 4,
  "nbformat_minor": 0,
  "metadata": {
    "colab": {
      "name": "GAN MNIST.ipynb",
      "provenance": [],
      "collapsed_sections": [],
      "authorship_tag": "ABX9TyOw4geaCO/j111T8GlkUakS",
      "include_colab_link": true
    },
    "kernelspec": {
      "name": "python3",
      "display_name": "Python 3"
    },
    "accelerator": "GPU"
  },
  "cells": [
    {
      "cell_type": "markdown",
      "metadata": {
        "id": "view-in-github",
        "colab_type": "text"
      },
      "source": [
        "<a href=\"https://colab.research.google.com/github/JacopoKahl/gan_mnist/blob/main/GAN_MNIST.ipynb\" target=\"_parent\"><img src=\"https://colab.research.google.com/assets/colab-badge.svg\" alt=\"Open In Colab\"/></a>"
      ]
    },
    {
      "cell_type": "markdown",
      "metadata": {
        "id": "TSCterJFqlFf"
      },
      "source": [
        "#Generative Adversial Network\n",
        "\n",
        "Fully-connected networks (generator and discriminator) as thew original implementation (2014)\n",
        "\n",
        "Example on the MNIST dataset"
      ]
    },
    {
      "cell_type": "markdown",
      "metadata": {
        "id": "ps4rJUDcri-c"
      },
      "source": [
        "##Imports"
      ]
    },
    {
      "cell_type": "code",
      "metadata": {
        "id": "nv9A0ug5qdzn"
      },
      "source": [
        "#Keras imports\n",
        "from keras.models import Sequential #Sequential model \n",
        "from keras.layers import Dense, Dropout\n",
        "\n",
        "from keras.layers.advanced_activations import LeakyReLU #advanced LeakyRelu activation layer\n",
        "\n",
        "#Dataset\n",
        "from keras.datasets import mnist\n",
        "\n",
        "import numpy as np #import numpy library\n",
        "\n",
        "#Visualization \n",
        "import matplotlib.pyplot as plt\n",
        "from keras.utils.vis_utils import plot_model"
      ],
      "execution_count": 11,
      "outputs": []
    },
    {
      "cell_type": "markdown",
      "metadata": {
        "id": "IQaLLwtfxN06"
      },
      "source": [
        "##Load data"
      ]
    },
    {
      "cell_type": "code",
      "metadata": {
        "id": "2rY8lY4xxMcS"
      },
      "source": [
        "(X_train, Y_train), (X_test, Y_test) = mnist.load_data() #load dataset\n",
        "\n",
        "#Normalization of the dataset\n",
        "X_train = (X_train.astype(np.float32) - 127.5) /127.5 #normaliza pixel values in the [-1,1] interval\n",
        "X_test = (X_test.astype(np.float32) - 127.5) /127.5 #normaliza pixel values in the [-1,1] interval"
      ],
      "execution_count": 12,
      "outputs": []
    },
    {
      "cell_type": "code",
      "metadata": {
        "colab": {
          "base_uri": "https://localhost:8080/"
        },
        "id": "QcxBH6o2yrNy",
        "outputId": "a7e1eb53-5a95-4725-8323-1ead3af644b4"
      },
      "source": [
        "print(X_train.shape)"
      ],
      "execution_count": 13,
      "outputs": [
        {
          "output_type": "stream",
          "text": [
            "(60000, 28, 28)\n"
          ],
          "name": "stdout"
        }
      ]
    },
    {
      "cell_type": "markdown",
      "metadata": {
        "id": "zsDW5Rkkzi3h"
      },
      "source": [
        "##Reshape input image into 1D array\n",
        "\n",
        "We need to feed the input to fully connected network"
      ]
    },
    {
      "cell_type": "code",
      "metadata": {
        "colab": {
          "base_uri": "https://localhost:8080/"
        },
        "id": "h_H4h9drzTUg",
        "outputId": "9e5047c3-4223-4ae2-8f12-f281409c8b59"
      },
      "source": [
        "#Save original dimension before reshaping\n",
        "\n",
        "num_Samples = X_train.shape[0]\n",
        "rows = X_train.shape[1]\n",
        "cols = X_train.shape[2]\n",
        "\n",
        "X_train = X_train.reshape(num_Samples, rows*cols)\n",
        "print(X_train.shape)"
      ],
      "execution_count": 14,
      "outputs": [
        {
          "output_type": "stream",
          "text": [
            "(60000, 784)\n"
          ],
          "name": "stdout"
        }
      ]
    },
    {
      "cell_type": "markdown",
      "metadata": {
        "id": "TN-MnB9m05Fn"
      },
      "source": [
        "##Models "
      ]
    },
    {
      "cell_type": "markdown",
      "metadata": {
        "id": "cFAb-zRo0_AU"
      },
      "source": [
        "###Network parameters"
      ]
    },
    {
      "cell_type": "code",
      "metadata": {
        "id": "AsGswTbh0zF9"
      },
      "source": [
        "gen_InputDim = 100 #Generator input dimension (like strating from the latent space)\n"
      ],
      "execution_count": 15,
      "outputs": []
    },
    {
      "cell_type": "markdown",
      "metadata": {
        "id": "R-9M3aUs1nBb"
      },
      "source": [
        "##Generator\n",
        "\n",
        "The generator architecture is like a decoder in the autoencoder."
      ]
    },
    {
      "cell_type": "code",
      "metadata": {
        "id": "C2is7dpM1061"
      },
      "source": [
        "generator = Sequential()\n",
        "\n",
        "generator.add(Dense(units=256, input_dim= gen_InputDim))\n",
        "generator.add(LeakyReLU(0.2)) #LeakyRealu with reduced alpha (slope of the negative segment) wrt default parameter\n",
        "\n",
        "generator.add(Dense(units=512))\n",
        "generator.add(LeakyReLU(0.2)) #LeakyRealu with reduced alpha (slope of the negative segment) wrt default parameter\n",
        "\n",
        "generator.add(Dense(units=1024))\n",
        "generator.add(LeakyReLU(0.2)) #LeakyRealu with reduced alpha (slope of the negative segment) wrt default parameter\n",
        "\n",
        "generator.add(Dense(units=X_train.shape[1], activation = 'tanh')) #tanh activation returns values in the [-1,1] interval\n"
      ],
      "execution_count": 16,
      "outputs": []
    },
    {
      "cell_type": "code",
      "metadata": {
        "colab": {
          "base_uri": "https://localhost:8080/"
        },
        "id": "NHg1K2VU3jgA",
        "outputId": "be2dc405-a2cb-4147-8d82-26b0da84ca00"
      },
      "source": [
        "generator.compile(loss='binary_crossentropy', optimizer='adam')\n",
        "generator.summary()\n",
        "#plot_model(generator)"
      ],
      "execution_count": 17,
      "outputs": [
        {
          "output_type": "stream",
          "text": [
            "Model: \"sequential_3\"\n",
            "_________________________________________________________________\n",
            "Layer (type)                 Output Shape              Param #   \n",
            "=================================================================\n",
            "dense_8 (Dense)              (None, 256)               25856     \n",
            "_________________________________________________________________\n",
            "leaky_re_lu_6 (LeakyReLU)    (None, 256)               0         \n",
            "_________________________________________________________________\n",
            "dense_9 (Dense)              (None, 512)               131584    \n",
            "_________________________________________________________________\n",
            "leaky_re_lu_7 (LeakyReLU)    (None, 512)               0         \n",
            "_________________________________________________________________\n",
            "dense_10 (Dense)             (None, 1024)              525312    \n",
            "_________________________________________________________________\n",
            "leaky_re_lu_8 (LeakyReLU)    (None, 1024)              0         \n",
            "_________________________________________________________________\n",
            "dense_11 (Dense)             (None, 784)               803600    \n",
            "=================================================================\n",
            "Total params: 1,486,352\n",
            "Trainable params: 1,486,352\n",
            "Non-trainable params: 0\n",
            "_________________________________________________________________\n"
          ],
          "name": "stdout"
        }
      ]
    },
    {
      "cell_type": "markdown",
      "metadata": {
        "id": "2LMN7hVQ4UYJ"
      },
      "source": [
        "##Discriminator \n",
        "\n",
        "The discriminator is an image classifier. The output is binary: 1(true) for original image nd 0 for fakes (generated by the generator)."
      ]
    },
    {
      "cell_type": "code",
      "metadata": {
        "id": "uX4GMz9H4kpq"
      },
      "source": [
        "discriminator = Sequential() #Sequential model\n",
        "\n",
        "discriminator.add(Dense(units=1024, input_dim=generator.output_shape[1]))\n",
        "discriminator.add(LeakyReLU(0.2))\n",
        "discriminator.add(Dropout(0.3))\n",
        "\n",
        "discriminator.add(Dense(units=512))\n",
        "discriminator.add(LeakyReLU(0.2))\n",
        "discriminator.add(Dropout(0.3))\n",
        "\n",
        "discriminator.add(Dense(units=256))\n",
        "discriminator.add(LeakyReLU(0.2))\n",
        "\n",
        "discriminator.add(Dense(units=1, activation='sigmoid')) #1 output unit for binary classification"
      ],
      "execution_count": 18,
      "outputs": []
    },
    {
      "cell_type": "code",
      "metadata": {
        "colab": {
          "base_uri": "https://localhost:8080/"
        },
        "id": "3XQLhKvAQ19A",
        "outputId": "38e6fa26-4df1-4973-e39c-4e7ba48476ef"
      },
      "source": [
        "discriminator.compile(loss='binary_crossentropy', optimizer='adam')\n",
        "discriminator.summary()"
      ],
      "execution_count": 19,
      "outputs": [
        {
          "output_type": "stream",
          "text": [
            "Model: \"sequential_4\"\n",
            "_________________________________________________________________\n",
            "Layer (type)                 Output Shape              Param #   \n",
            "=================================================================\n",
            "dense_12 (Dense)             (None, 1024)              803840    \n",
            "_________________________________________________________________\n",
            "leaky_re_lu_9 (LeakyReLU)    (None, 1024)              0         \n",
            "_________________________________________________________________\n",
            "dropout_2 (Dropout)          (None, 1024)              0         \n",
            "_________________________________________________________________\n",
            "dense_13 (Dense)             (None, 512)               524800    \n",
            "_________________________________________________________________\n",
            "leaky_re_lu_10 (LeakyReLU)   (None, 512)               0         \n",
            "_________________________________________________________________\n",
            "dropout_3 (Dropout)          (None, 512)               0         \n",
            "_________________________________________________________________\n",
            "dense_14 (Dense)             (None, 256)               131328    \n",
            "_________________________________________________________________\n",
            "leaky_re_lu_11 (LeakyReLU)   (None, 256)               0         \n",
            "_________________________________________________________________\n",
            "dense_15 (Dense)             (None, 1)                 257       \n",
            "=================================================================\n",
            "Total params: 1,460,225\n",
            "Trainable params: 1,460,225\n",
            "Non-trainable params: 0\n",
            "_________________________________________________________________\n"
          ],
          "name": "stdout"
        }
      ]
    },
    {
      "cell_type": "markdown",
      "metadata": {
        "id": "oU5gxicNRdgm"
      },
      "source": [
        "##Gan"
      ]
    },
    {
      "cell_type": "code",
      "metadata": {
        "colab": {
          "base_uri": "https://localhost:8080/"
        },
        "id": "ndyztEy2RKQr",
        "outputId": "b6848771-45d7-4a5b-f06b-0228c4dc1d17"
      },
      "source": [
        "gan = Sequential()\n",
        "\n",
        "gan.add(generator)\n",
        "gan.add(discriminator)\n",
        "\n",
        "gan.compile(loss='binary_crossentropy', optimizer='adam')\n",
        "\n",
        "gan.summary()"
      ],
      "execution_count": 20,
      "outputs": [
        {
          "output_type": "stream",
          "text": [
            "Model: \"sequential_5\"\n",
            "_________________________________________________________________\n",
            "Layer (type)                 Output Shape              Param #   \n",
            "=================================================================\n",
            "sequential_3 (Sequential)    (None, 784)               1486352   \n",
            "_________________________________________________________________\n",
            "sequential_4 (Sequential)    (None, 1)                 1460225   \n",
            "=================================================================\n",
            "Total params: 2,946,577\n",
            "Trainable params: 2,946,577\n",
            "Non-trainable params: 0\n",
            "_________________________________________________________________\n"
          ],
          "name": "stdout"
        }
      ]
    },
    {
      "cell_type": "markdown",
      "metadata": {
        "id": "XYgUEIgiSBvl"
      },
      "source": [
        "##Training\n",
        "\n",
        "The training is the hardest part for Gans."
      ]
    },
    {
      "cell_type": "code",
      "metadata": {
        "id": "SUAO7V7HR0II"
      },
      "source": [
        "#Defining a function for all training instructions\n",
        "\n",
        "def training(epochs=1, batch_size=128):\n",
        "  batch_count = int(num_Samples / batch_size) #number of batches\n",
        "\n",
        "  for e in range (1, epochs+1) #epochs counter starts from 1\n",
        "    print('Epochs: ', e)\n",
        "    for _ in range (batch_count):\n",
        "      #generate input vectors from the generator\n",
        "      noise = np.random.normal(loc=0, scale=1, size=[batch_size, gen_InputDim]) #generate random input vestors. Each of them has gen_InputDim dimensions.\n",
        "\n",
        "      #generate fake images batch by feeding vectors to the generator\n",
        "      generated_images = generator.predict(noise) #the generator produces an image for each input vector\n",
        "\n",
        "      #generate batch of real images from dataset\n",
        "\n",
        "      #compose together fake and real images\n",
        "\n",
        "      #create label vectors\n",
        "\n",
        "      #train discriminator\n",
        "\n",
        "      #train generator"
      ],
      "execution_count": null,
      "outputs": []
    }
  ]
}